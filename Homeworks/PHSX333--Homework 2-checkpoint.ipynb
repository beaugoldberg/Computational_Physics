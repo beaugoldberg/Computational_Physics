{
 "cells": [
  {
   "cell_type": "code",
   "execution_count": 3,
   "metadata": {
    "collapsed": false,
    "deletable": true,
    "editable": true
   },
   "outputs": [
    {
     "name": "stdout",
     "output_type": "stream",
     "text": [
      "Problem 1:Calculating Derivatives \n",
      "\n",
      "Part A: Derivative\n",
      "The derivative is  1.010000000000001\n",
      "\n",
      "Part B: Derivative with different sigma values\n",
      "The derivative is 1.000100 with a percent error of  9.999999988985486e-05\n",
      "The derivative is 1.000001 with a percent error of  9.99917733279787e-07\n",
      "The derivative is 1.000000 with a percent error of  3.922528746258536e-09\n",
      "The derivative is 1.000000 with a percent error of  8.284037100736441e-08\n",
      "The derivative is 1.000089 with a percent error of  8.890058334132256e-05\n",
      "The derivative is 0.999201 with a percent error of  -0.0007992778373491216\n"
     ]
    }
   ],
   "source": [
    "#------------------------------------------------------------------------------\n",
    "#Problem 1: Calculating Derivatives\n",
    "#Beau Goldberg\n",
    "#Goal: Our goal is to take a function and approximate the derivate \n",
    "#------------------------------------------------------------------------------\n",
    "\n",
    "print(\"Problem 1:Calculating Derivatives \")\n",
    "print()\n",
    "\n",
    "#Part A: Taking the derivative\n",
    "#-----------------------------------------------------------------------------------------------------------------\n",
    "print(\"Part A: Derivative\")\n",
    "\n",
    "def f(x):                              #A function that returns x(x-1)\n",
    "    return x*(x-1)\n",
    "\n",
    "def dx(x,delta):                       #A function that estimates the derivate based on the accuracy of delta\n",
    "    return (f(x+delta) - f(x))/delta\n",
    "\n",
    "x = 1\n",
    "delta = 10**-2\n",
    "\n",
    "print(\"The derivative is \", dx(x,delta))\n",
    "print()\n",
    "#----------------------------------------------------------------------------------------------------------------\n",
    "\n",
    "#Part B: Taking derivative with different sigma values\n",
    "#----------------------------------------------------------------------------------------------------------------\n",
    "print(\"Part B: Derivative with different sigma values\")\n",
    "\n",
    "#Creates an array of delta values for which we will pass into the function to test accuracy and determine error\n",
    "delta = [10**-4,10**-6,10**-8,10**-10,10**-12,10**-14]\n",
    "\n",
    "#Calculates different derivative values based of off the different delta values\n",
    "for d in range(len(delta)):\n",
    "    print(\"The derivative is %f with a percent error of \" %dx(x,delta[d]), -1 + dx(x,delta[d]))\n",
    "#----------------------------------------------------------------------------------------------------------------"
   ]
  },
  {
   "cell_type": "code",
   "execution_count": 4,
   "metadata": {
    "collapsed": false,
    "deletable": true,
    "editable": true
   },
   "outputs": [
    {
     "name": "stdout",
     "output_type": "stream",
     "text": [
      "Problem 2: The diffraction limit of a telescope\n",
      "\n",
      "Part A: Intregration and Plot\n"
     ]
    },
    {
     "data": {
      "image/png": "[encoded data removed]",
      "text/plain": [
       "<matplotlib.figure.Figure at 0x2ab22aede10>"
      ]
     },
     "metadata": {},
     "output_type": "display_data"
    }
   ],
   "source": [
    "#--------------------------------------------------------------------------------------------------------------------\n",
    "#Problem 2: The diffraction limit of a telescope\n",
    "#Beau Goldberg\n",
    "#Goal: Our goal is to use simpsons rule and integrate over the area to find the dffraction limit of the telescope\n",
    "#--------------------------------------------------------------------------------------------------------------------\n",
    "\n",
    "import numpy as np\n",
    "from numpy import pi\n",
    "from matplotlib import pylab as py\n",
    "\n",
    "print(\"Problem 2: The diffraction limit of a telescope\")\n",
    "print()\n",
    "\n",
    "#Part A: Defining function for integral and creating simple plot from data\n",
    "#------------------------------------------------------------------------------------------------------------------------\n",
    "print(\"Part A: Intregration and Plot\")\n",
    "#Function defining the function that we are wanting to integrate. Using simpsons rule we get a factor of 4 for the odd\n",
    "#numbers within the range and a factor of 4 for the even numbers within the range. Then we have to multiply\n",
    "#the end resultby 1/3 as the simpsons rule coefficient and h as well as the 1/pi from the given function.\n",
    "\n",
    "def J(m,x):\n",
    "    def Jm(theta):\n",
    "        return np.cos(m*theta - x*np.sin(theta))\n",
    "    s = Jm(0) + Jm(pi)\n",
    "    a = 0\n",
    "    b = pi\n",
    "    h = pi/1000\n",
    "    for i in range(1,1000,2):\n",
    "        s += 4*Jm(i*h)\n",
    "    for i in range(2,1000,2):\n",
    "        s += 2*Jm(i*h)\n",
    "    return (1/3)*(1/pi)*h*s\n",
    "\n",
    "#Use linespace to create an array of values used to plot our data\n",
    "x = np.linspace(0,20,1000)\n",
    "J0 = J(0,x) #integral with m = 0\n",
    "J1 = J(1,x) #integral with m = 1\n",
    "J2 = J(2,x) #integral with m = 2\n",
    "\n",
    "py.plot(x,J0,\"r-\")\n",
    "py.plot(x,J1,\"b.\")\n",
    "py.plot(x,J2,\"m--\")\n",
    "py.show()\n",
    "#---------------------------------------------------------------------------------------------------------------------------"
   ]
  },
  {
   "cell_type": "code",
   "execution_count": 5,
   "metadata": {
    "collapsed": false,
    "deletable": true,
    "editable": true
   },
   "outputs": [
    {
     "name": "stdout",
     "output_type": "stream",
     "text": [
      "Part B: Density Plot\n"
     ]
    },
    {
     "data": {
      "image/png": "[encoded data removed]",
      "text/plain": [
       "<matplotlib.figure.Figure at 0x2ab215325c0>"
      ]
     },
     "metadata": {},
     "output_type": "display_data"
    }
   ],
   "source": [
    "#Part B: Converting from simple plot to density plot \n",
    "#---------------------------------------------------------------------------------------------------------------------------\n",
    "print(\"Part B: Density Plot\")\n",
    "#Function to find the area based on the radius and wavelength in order to create a grid of points and create a density plot\n",
    "def I(wavelength, radius):\n",
    "    k = (2*pi / wavelength)\n",
    "    return (J(1,k*radius)/(k*radius))**2\n",
    "\n",
    "#Creates a grid from -1000 to 1000 on each axis with 100 grid points or pixels across\n",
    "x,y = np.mgrid[-1000:1000:100j,-1000:1000:100j]\n",
    "\n",
    "\n",
    "r = np.sqrt(x**2 + y**2) #Calulates the radius and area in order to plot points on the grid\n",
    "I = I(500,r)\n",
    "\n",
    "py.gray()                #Creates the density plot\n",
    "py.imshow(I, vmax = 0.01, extent = (-1000,1000,-1000,1000))\n",
    "py.show()\n",
    "#--------------------------------------------------------------------------------------------------------------------------- "
   ]
  },
  {
   "cell_type": "code",
   "execution_count": 6,
   "metadata": {
    "collapsed": false,
    "deletable": true,
    "editable": true
   },
   "outputs": [
    {
     "name": "stdout",
     "output_type": "stream",
     "text": [
      "Problem 3: Analyzing Period/Amplitude Relations in a Anharmonic Oscillator\n",
      "\n",
      "Part B: Integration and Plot\n"
     ]
    },
    {
     "data": {
      "image/png": "[encoded data removed]",
      "text/plain": [
       "<matplotlib.figure.Figure at 0x2ab23570b38>"
      ]
     },
     "metadata": {},
     "output_type": "display_data"
    }
   ],
   "source": [
    "#-------------------------------------------------------------------------------------\n",
    "#Problem 3: Period of an anharmonic oscillator\n",
    "#Beau Goldberg\n",
    "#Goal: Use integrals to calculate the period of different situations\n",
    "#-------------------------------------------------------------------------------------\n",
    "\n",
    "import numpy as np\n",
    "from matplotlib import pylab as py\n",
    "from gaussxw import gaussxw\n",
    "\n",
    "print(\"Problem 3: Analyzing Period/Amplitude Relations in a Anharmonic Oscillator\")\n",
    "print()\n",
    "\n",
    "#Part A: Finding the equation\n",
    "#-------------------------------------------------------------------------------------\n",
    "#Step 1: E - V(x) = 1/2 * M * (dx/dt)**2\n",
    "#Step 2: sqrt((2/m)(E - V(a)) = dx/dt\n",
    "#Step 3: dt = sqrt(m/2) * 1/(E - V(a))**1/2\n",
    "#Integrate getting 1/4T for dt then multiply both sides by 4 to nuetralize T\n",
    "#Step 4: T = (4) * sqrt(m/2) * 1/(E - V(a))**1/2\n",
    "#Step 5: T = sqrt(8m) * 1/(E - V(a))**1/2\n",
    "#-------------------------------------------------------------------------------------\n",
    "\n",
    "#Part B: Integration and Plots\n",
    "#-------------------------------------------------------------------------------------\n",
    "print(\"Part B: Integration and Plot\")\n",
    "\n",
    "m = 1\n",
    "N = 30\n",
    "\n",
    "x,w = gaussxw(N)\n",
    "\n",
    "def V(x):           #A function defining the potential of the oscillator\n",
    "    return x**4\n",
    "\n",
    "def T(initial):     #A function that completes the integration of the function to give us a period value for a certain amplitude \n",
    "    \n",
    "    E = V(initial)\n",
    "    a = 0\n",
    "    b = initial\n",
    "    xp = 0.5*(b-a)*x + 0.5*(b+a)\n",
    "    wp = 0.5*(b-a)*w\n",
    "    s = 0\n",
    "    \n",
    "    for i in range(N):\n",
    "        s += wp[i]*(1/np.sqrt(E-V(xp[i])))  #Sum up the wp and xp arrays to get the value of the integral\n",
    "    \n",
    "    return s*np.sqrt(8*m)  #Multiply by the coefficient of the integral\n",
    "\n",
    "a = np.linspace(0.1,2,30)  #Creates an array of N values between the points of integration\n",
    "\n",
    "Tdata = []                 #Creates an array of periods corresponding to the amplitude \n",
    "for i in range(len(a)):\n",
    "    Tdata.append(T(a[i]))\n",
    "\n",
    "\n",
    "py.plot(a,Tdata,\"r\")\n",
    "py.ylabel(\"Period\")\n",
    "py.xlabel(\"Amplitude\")\n",
    "py.title(\"Period vs. Amplitude For An Anharmonic Oscillator\")\n",
    "py.show()\n",
    "#-----------------------------------------------------------------------------------------------------------------------------\n",
    "\n",
    "#Part C: What is the reasoning to the period decreasing as the amplitude increases?\n",
    "#-----------------------------------------------------------------------------------------------------------------------------\n",
    "#Since we have a consitent mass of 1 the V(xp) is going to constintly return the same values yet as we increase the amplitude \n",
    "#the value for E is going to increase. This will result in a larger number in the denominator therefore giving a smaller \n",
    "#period in direct correspondence to the increase in amplitude\n",
    "#-----------------------------------------------------------------------------------------------------------------------------\n",
    "\n",
    "    "
   ]
  },
  {
   "cell_type": "code",
   "execution_count": 7,
   "metadata": {
    "collapsed": false,
    "deletable": true,
    "editable": true
   },
   "outputs": [
    {
     "name": "stdout",
     "output_type": "stream",
     "text": [
      "Problem 4: The Stefan-Boltzmann Constant\n",
      "\n",
      "The calculted value for the Stefan-Boltzmann Constant is  5.66975834066e-08\n",
      "The actual value for the Stefan-Boltzmann Constant is  5.670367e-08\n",
      "The percent error in calculation is 0.01073\n"
     ]
    }
   ],
   "source": [
    "#------------------------------------------------------------------------------------------\n",
    "#Problem 4: The Stefan-Boltzmann Constant\n",
    "#Beau Goldberg\n",
    "#Goal: Use an integral to evaluate the given expression and comparing to the actual value\n",
    "#------------------------------------------------------------------------------------------\n",
    "\n",
    "import numpy as np\n",
    "from gaussxw import gaussxw\n",
    "from scipy.constants import c, hbar, k, sigma\n",
    "\n",
    "print(\"Problem 4: The Stefan-Boltzmann Constant\")\n",
    "print()\n",
    "\n",
    "#Part A: Deriving the equation\n",
    "#-------------------------------------------------------------------------------------------------------------------------------\n",
    "#In order to get the equation necessary there needs to be a chanhe of variable. Using x = (hbar*w)/(Kb*T) then solve for w\n",
    "#getting w = (Kb*T*x)/hbar. Then we need to substitute for dw as well so taking the derivative of w we get (Kb*T*dx)/hbar\n",
    "#if we plug in x for w^3 we get x**3 there and can pull out the factors of (Kb^3*T^3)/hbar^3 and we can also pull a \n",
    "#(Kb*T)/hbar from dw as well resulting in a coefficient of (Kb^4*T^4)/(4*pi^2*c^2*hbar^3) (one hbar cancels with the previous \n",
    "#coefficient as well as the coeffiecent picks up the 4pi^2c^2 from the previous coefficient as well). This gives us the equation\n",
    "#that is presented to us W = ((Kb^4*T^4)/(4pi^2*c^2*hbar^3))*integral(0 to Infinity)(x^3/(e^x-1))dx\n",
    "#-------------------------------------------------------------------------------------------------------------------------------\n",
    "\n",
    "#Part B: Explaining integral method and carrying out integration\n",
    "#--------------------------------------------------------------------------------------------------------------------------\n",
    "#To start, there needed to be a change of limits to make the integral possible because we cant integrate to infinity\n",
    "#therefore, in the book it stated that z/(1-z) is the most commonly used substitute for x. Once that was complete I \n",
    "#used Gaussian Quadrature as my method of integration because it is not only the most simple to use in this case but\n",
    "#also uses all the points possible increasing accuracy. I believe the integration is rather accurate because of the nature\n",
    "#of the Gaussian Quadrature using all possible points to integrate.\n",
    "\n",
    "N = 20\n",
    "x,w = gaussxw(N)\n",
    "\n",
    "def f1(z):\n",
    "    return (z**3/((np.e**(z/(1-z))-1)*(1-z)**5))\n",
    "\n",
    "a = 0\n",
    "b = 1\n",
    "xp = 0.5*(b-a)*x + 0.5*(b+a)\n",
    "wp = 0.5*(b-a)*w\n",
    "    \n",
    "s = 0\n",
    "\n",
    "for i in range(N):\n",
    "    s += wp[i] * f1(xp[i])\n",
    "#--------------------------------------------------------------------------------------------------------------------------\n",
    "\n",
    "#Part C: Comparison of Exerimental to Expected\n",
    "#--------------------------------------------------------------------------------------------------------------------------\n",
    "sigmaEXP = s*k**4/(4*np.pi**2*c**2*hbar**3)\n",
    "error = np.abs(sigmaEXP - sigma)/sigma * 100\n",
    "\n",
    "print(\"The calculted value for the Stefan-Boltzmann Constant is \", sigmaEXP )\n",
    "print(\"The actual value for the Stefan-Boltzmann Constant is \", sigma)\n",
    "print(\"The percent error in calculation is %.5f\" %error)\n",
    "#--------------------------------------------------------------------------------------------------------------------------"
   ]
  },
  {
   "cell_type": "code",
   "execution_count": null,
   "metadata": {
    "collapsed": true,
    "deletable": true,
    "editable": true
   },
   "outputs": [],
   "source": []
  }
 ],
 "metadata": {
  "kernelspec": {
   "display_name": "Python 3",
   "language": "python",
   "name": "python3"
  },
  "language_info": {
   "codemirror_mode": {
    "name": "ipython",
    "version": 3
   },
   "file_extension": ".py",
   "mimetype": "text/x-python",
   "name": "python",
   "nbconvert_exporter": "python",
   "pygments_lexer": "ipython3",
   "version": "3.5.2"
  }
 },
 "nbformat": 4,
 "nbformat_minor": 2
}
